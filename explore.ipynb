{
 "cells": [
  {
   "cell_type": "code",
   "execution_count": 24,
   "metadata": {},
   "outputs": [],
   "source": [
    "import warnings\n",
    "\n",
    "warnings.filterwarnings(\"ignore\")\n",
    "\n",
    "import pyspark.sql\n",
    "from pyspark.sql.functions import *\n",
    "\n",
    "import numpy as np\n",
    "import pandas as pd\n",
    "\n",
    "import wrangle as w\n",
    "\n",
    "%matplotlib inline\n",
    "import matplotlib.pyplot as plt\n",
    "import seaborn as sns\n",
    "\n",
    "spark = pyspark.sql.SparkSession.builder.getOrCreate()\n",
    "\n",
    "plt.style.use(\"ggplot\")"
   ]
  },
  {
   "cell_type": "markdown",
   "metadata": {},
   "source": [
    "# Acquire data"
   ]
  },
  {
   "cell_type": "code",
   "execution_count": 5,
   "metadata": {},
   "outputs": [],
   "source": [
    "case_df = spark.read.csv(\"case.csv\", header=True, inferSchema=True)\n",
    "dept_df = spark.read.csv(\"dept.csv\", header=True, inferSchema=True)\n",
    "source_df = spark.read.csv(\"source.csv\", header=True, inferSchema=True)\n",
    "\n",
    "\n",
    "\n",
    "def wrangle_311(case_df, dept_df, source_df):\n",
    "    df = case_df.join(source_df, on=case_df.source_id == source_df.source_id, how = 'left').drop(source_df.source_id)\n",
    "    df = df.join(dept_df, on=df.dept_division == dept_df.dept_division, how = 'left').drop(dept_df.dept_division)\n",
    "    return df"
   ]
  },
  {
   "cell_type": "code",
   "execution_count": 6,
   "metadata": {},
   "outputs": [],
   "source": [
    "df = wrangle_311(case_df, dept_df, source_df)"
   ]
  },
  {
   "cell_type": "code",
   "execution_count": 8,
   "metadata": {},
   "outputs": [
    {
     "name": "stdout",
     "output_type": "stream",
     "text": [
      "-RECORD 0------------------------------------------------------\n",
      " case_id                | 1014127332                           \n",
      " case_opened_date       | 1/1/18 0:42                          \n",
      " case_closed_date       | 1/1/18 12:29                         \n",
      " SLA_due_date           | 9/26/20 0:42                         \n",
      " case_late              | NO                                   \n",
      " num_days_late          | -998.5087616000001                   \n",
      " case_closed            | YES                                  \n",
      " dept_division          | Field Operations                     \n",
      " service_request_type   | Stray Animal                         \n",
      " SLA_days               | 999.0                                \n",
      " case_status            | Closed                               \n",
      " source_id              | svcCRMLS                             \n",
      " request_address        | 2315  EL PASO ST, San Antonio, 78207 \n",
      " council_district       | 5                                    \n",
      " source_username        | svcCRMLS                             \n",
      " dept_name              | Animal Care Services                 \n",
      " standardized_dept_name | Animal Care Services                 \n",
      " dept_subject_to_SLA    | YES                                  \n",
      "only showing top 1 row\n",
      "\n"
     ]
    }
   ],
   "source": [
    "df.show(1, False, True)"
   ]
  },
  {
   "cell_type": "code",
   "execution_count": 18,
   "metadata": {},
   "outputs": [
    {
     "name": "stdout",
     "output_type": "stream",
     "text": [
      "[wrangle.py] reading case.csv\n",
      "[wrangle.py] handling data types\n",
      "[wrangle.py] parsing dates\n",
      "[wrangle.py] adding features\n",
      "[wrangle.py] joining departments\n"
     ]
    }
   ],
   "source": [
    "df = w.wrangle_311_new(spark)"
   ]
  },
  {
   "cell_type": "code",
   "execution_count": 19,
   "metadata": {},
   "outputs": [
    {
     "name": "stdout",
     "output_type": "stream",
     "text": [
      "-RECORD 0----------------------------------------------------\n",
      " case_id              | 1014127332                           \n",
      " case_opened_date     | 2018-01-01 00:42:00                  \n",
      " case_closed_date     | 2018-01-01 12:29:00                  \n",
      " case_due_date        | 2020-09-26 00:42:00                  \n",
      " case_late            | false                                \n",
      " num_days_late        | -998.5087616000001                   \n",
      " case_closed          | true                                 \n",
      " service_request_type | Stray Animal                         \n",
      " SLA_days             | 999.0                                \n",
      " case_status          | Closed                               \n",
      " source_id            | svcCRMLS                             \n",
      " request_address      | 2315  EL PASO ST, San Antonio, 78207 \n",
      " council_district     | 005                                  \n",
      " num_weeks_late       | -142.6441088                         \n",
      " zipcode              | 78207                                \n",
      " case_age             | 219                                  \n",
      " days_to_closed       | 0                                    \n",
      " case_lifetime        | 0                                    \n",
      " department           | Animal Care Services                 \n",
      " dept_subject_to_SLA  | true                                 \n",
      "only showing top 1 row\n",
      "\n"
     ]
    }
   ],
   "source": [
    "df.show(1, False, True)"
   ]
  },
  {
   "cell_type": "markdown",
   "metadata": {},
   "source": [
    "Answer the questions below by using a combination of the techniques discussed in the lesson that you think is appropriate.\n",
    "\n",
    "\n",
    " - How many different cases are there, by department?\n",
    " - Does the percentage of cases that are late vary by department?\n",
    " - On average, how late are the late cases by department?\n",
    " - What is the service type that is the most late? Just for Parks & Rec?\n",
    " - For the DSD/Code Enforcement department, what are the most common service request types? Look at other departments too.\n",
    " - Does whether or not its a weekend matter for when a case is opened/closed?\n",
    " - On average, how many cases are opened a day for the Customer Service department?\n",
    " - Does the number of service requests for the solid waste department vary by day of the week?"
   ]
  },
  {
   "cell_type": "code",
   "execution_count": 21,
   "metadata": {},
   "outputs": [
    {
     "name": "stdout",
     "output_type": "stream",
     "text": [
      "+--------------------+------+\n",
      "|          department| count|\n",
      "+--------------------+------+\n",
      "|         Solid Waste|279270|\n",
      "|Animal Care Services|116915|\n",
      "|Trans & Cap Impro...| 96193|\n",
      "|  Parks & Recreation| 19907|\n",
      "|    Customer Service|  2849|\n",
      "|        Metro Health|  5163|\n",
      "|        City Council|    33|\n",
      "|DSD/Code Enforcement|321374|\n",
      "+--------------------+------+\n",
      "\n"
     ]
    }
   ],
   "source": [
    "# How many different cases are there, by department?\n",
    "df.groupby('department').count().show()"
   ]
  },
  {
   "cell_type": "code",
   "execution_count": 25,
   "metadata": {},
   "outputs": [
    {
     "data": {
      "text/plain": [
       "Text(0.5, 0, 'Number of Cases')"
      ]
     },
     "execution_count": 25,
     "metadata": {},
     "output_type": "execute_result"
    },
    {
     "data": {
      "image/png": "[encoded data removed]",
      "text/plain": [
       "<Figure size 1008x360 with 1 Axes>"
      ]
     },
     "metadata": {},
     "output_type": "display_data"
    }
   ],
   "source": [
    "# First aggregate with spark\n",
    "(\n",
    "# group by    \n",
    "    df.groupBy(\"department\")\n",
    "# aggregate by count    \n",
    "    .count()\n",
    "# then pass to pandas\n",
    "    .toPandas()\n",
    "# once its a dataframe, pass department as our index\n",
    "    .set_index(\"department\")[\"count\"]\n",
    "# sort our values for cleanliness of visualization\n",
    "    .sort_values(ascending=False)\n",
    "# pass our Series (department count values) to matplotlib\n",
    "    .plot.barh(width=1, edgecolor=\"black\", figsize=(14, 5))\n",
    ")\n",
    "\n",
    "plt.title(\"Number of Cases By Department\")\n",
    "plt.ylabel(\"\")\n",
    "plt.xlabel(\"Number of Cases\")"
   ]
  },
  {
   "cell_type": "code",
   "execution_count": null,
   "metadata": {},
   "outputs": [],
   "source": []
  }
 ],
 "metadata": {
  "kernelspec": {
   "display_name": "Python 3",
   "language": "python",
   "name": "python3"
  },
  "language_info": {
   "codemirror_mode": {
    "name": "ipython",
    "version": 3
   },
   "file_extension": ".py",
   "mimetype": "text/x-python",
   "name": "python",
   "nbconvert_exporter": "python",
   "pygments_lexer": "ipython3",
   "version": "3.8.5"
  }
 },
 "nbformat": 4,
 "nbformat_minor": 4
}
